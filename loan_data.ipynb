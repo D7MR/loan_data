{
 "cells": [
  {
   "cell_type": "code",
   "execution_count": 1,
   "id": "71ebaf9a-d2c7-4953-bed3-dd6f290b5f6c",
   "metadata": {},
   "outputs": [],
   "source": [
    "import numpy as np\n",
    "import pandas as pd\n",
    "import seaborn as sns\n",
    "from sklearn.model_selection import train_test_split\n",
    "from sklearn import svm\n",
    "from sklearn.metrics import accuracy_score\n",
    "from sklearn.linear_model import LogisticRegression\n",
    "from sklearn.tree import DecisionTreeClassifier\n",
    "from sklearn.neighbors import KNeighborsClassifier\n",
    "from sklearn.naive_bayes import GaussianNB\n",
    "import matplotlib.pyplot as plt\n",
    "%matplotlib inline"
   ]
  },
  {
   "cell_type": "code",
   "execution_count": 2,
   "id": "742605b9-f34f-4814-973d-3f4acf1fee73",
   "metadata": {},
   "outputs": [],
   "source": [
    "# loading dataset\n",
    "loan_dataset = pd.read_csv('loan_data.csv')"
   ]
  },
  {
   "cell_type": "code",
   "execution_count": 3,
   "id": "1a815a09-f04b-40c6-ab75-1df6c04336d1",
   "metadata": {},
   "outputs": [],
   "source": [
    "# fill the missing values for numerical term(mean)\n",
    "loan_dataset['LoanAmount'] = loan_dataset['LoanAmount'].fillna(loan_dataset['LoanAmount'].mean())\n",
    "loan_dataset['Loan_Amount_Term'] = loan_dataset['Loan_Amount_Term'].fillna(loan_dataset['Loan_Amount_Term'].mean())\n",
    "loan_dataset['Credit_History'] = loan_dataset['Credit_History'].fillna(loan_dataset['Credit_History'].mean())"
   ]
  },
  {
   "cell_type": "code",
   "execution_count": 4,
   "id": "57977957-bac5-4a2f-8d44-d98105d5a705",
   "metadata": {},
   "outputs": [
    {
     "name": "stdout",
     "output_type": "stream",
     "text": [
      "Loan_ID              0\n",
      "Gender               0\n",
      "Married              0\n",
      "Dependents           0\n",
      "Education            0\n",
      "Self_Employed        0\n",
      "ApplicantIncome      0\n",
      "CoapplicantIncome    0\n",
      "LoanAmount           0\n",
      "Loan_Amount_Term     0\n",
      "Credit_History       0\n",
      "Property_Area        0\n",
      "Loan_Status          0\n",
      "dtype: int64\n",
      "(614, 13)\n"
     ]
    }
   ],
   "source": [
    "# fill the missing valus for categorical term(mode)\n",
    "loan_dataset['Gender'] = loan_dataset['Gender'].fillna(loan_dataset['Gender'].mode()[0])\n",
    "loan_dataset['Married'] = loan_dataset['Married'].fillna(loan_dataset['Married'].mode()[0])\n",
    "loan_dataset['Dependents'] = loan_dataset['Dependents'].fillna(loan_dataset['Dependents'].mode()[0])\n",
    "loan_dataset['Self_Employed'] = loan_dataset['Self_Employed'].fillna(loan_dataset['Self_Employed'].mode()[0])\n",
    "print(loan_dataset.isnull().sum())\n",
    "print(loan_dataset.shape)"
   ]
  },
  {
   "cell_type": "code",
   "execution_count": 5,
   "id": "b83f3932-1205-4c0c-b913-5f452c34bf5d",
   "metadata": {},
   "outputs": [],
   "source": [
    "# data conversion\n",
    "loan_dataset_conversion=loan_dataset.replace({'Gender': {'Male': 0, 'Female': 1},\n",
    "                      'Married': {'No': 0, 'Yes': 1},\n",
    "                      'Education': {'Not Graduate': 0, 'Graduate': 1},\n",
    "                      'Self_Employed': {'No': 0, 'Yes': 1},\n",
    "                      'Property_Area': {'Rural': 0, 'Semiurban': 1, 'Urban': 2},\n",
    "                      'Loan_Status': {'N': 0, 'Y': 1},\n",
    "                      'Dependents': {'3+': 4}}, inplace=True)\n"
   ]
  },
  {
   "cell_type": "code",
   "execution_count": 6,
   "id": "1c345e70-7762-4425-8809-7913fa1e6fda",
   "metadata": {},
   "outputs": [
    {
     "name": "stdout",
     "output_type": "stream",
     "text": [
      "328\n",
      "163\n",
      "123\n"
     ]
    }
   ],
   "source": [
    "# train test split\n",
    "data_input = loan_dataset.drop(columns=['Loan_ID', 'Loan_Status'], )#axis=1\n",
    "data_output = loan_dataset['Loan_Status']\n",
    "x, x_test, y, y_test = train_test_split(\n",
    "    data_input,\n",
    "    data_output,\n",
    "    test_size=0.2,\n",
    "    random_state=1\n",
    ")\n",
    "x_train, x_val, y_train, y_val = train_test_split(\n",
    "    x,\n",
    "   y,\n",
    "    test_size=0.33,\n",
    "    random_state=1\n",
    ")\n",
    "print(x_train.shape[0])\n",
    "print(x_val.shape[0])\n",
    "print(x_test.shape[0])"
   ]
  },
  {
   "cell_type": "code",
   "execution_count": 7,
   "id": "073ebca2-0fe3-4110-b364-01da01be03e4",
   "metadata": {},
   "outputs": [
    {
     "data": {
      "text/html": [
       "<style>#sk-container-id-1 {color: black;background-color: white;}#sk-container-id-1 pre{padding: 0;}#sk-container-id-1 div.sk-toggleable {background-color: white;}#sk-container-id-1 label.sk-toggleable__label {cursor: pointer;display: block;width: 100%;margin-bottom: 0;padding: 0.3em;box-sizing: border-box;text-align: center;}#sk-container-id-1 label.sk-toggleable__label-arrow:before {content: \"▸\";float: left;margin-right: 0.25em;color: #696969;}#sk-container-id-1 label.sk-toggleable__label-arrow:hover:before {color: black;}#sk-container-id-1 div.sk-estimator:hover label.sk-toggleable__label-arrow:before {color: black;}#sk-container-id-1 div.sk-toggleable__content {max-height: 0;max-width: 0;overflow: hidden;text-align: left;background-color: #f0f8ff;}#sk-container-id-1 div.sk-toggleable__content pre {margin: 0.2em;color: black;border-radius: 0.25em;background-color: #f0f8ff;}#sk-container-id-1 input.sk-toggleable__control:checked~div.sk-toggleable__content {max-height: 200px;max-width: 100%;overflow: auto;}#sk-container-id-1 input.sk-toggleable__control:checked~label.sk-toggleable__label-arrow:before {content: \"▾\";}#sk-container-id-1 div.sk-estimator input.sk-toggleable__control:checked~label.sk-toggleable__label {background-color: #d4ebff;}#sk-container-id-1 div.sk-label input.sk-toggleable__control:checked~label.sk-toggleable__label {background-color: #d4ebff;}#sk-container-id-1 input.sk-hidden--visually {border: 0;clip: rect(1px 1px 1px 1px);clip: rect(1px, 1px, 1px, 1px);height: 1px;margin: -1px;overflow: hidden;padding: 0;position: absolute;width: 1px;}#sk-container-id-1 div.sk-estimator {font-family: monospace;background-color: #f0f8ff;border: 1px dotted black;border-radius: 0.25em;box-sizing: border-box;margin-bottom: 0.5em;}#sk-container-id-1 div.sk-estimator:hover {background-color: #d4ebff;}#sk-container-id-1 div.sk-parallel-item::after {content: \"\";width: 100%;border-bottom: 1px solid gray;flex-grow: 1;}#sk-container-id-1 div.sk-label:hover label.sk-toggleable__label {background-color: #d4ebff;}#sk-container-id-1 div.sk-serial::before {content: \"\";position: absolute;border-left: 1px solid gray;box-sizing: border-box;top: 0;bottom: 0;left: 50%;z-index: 0;}#sk-container-id-1 div.sk-serial {display: flex;flex-direction: column;align-items: center;background-color: white;padding-right: 0.2em;padding-left: 0.2em;position: relative;}#sk-container-id-1 div.sk-item {position: relative;z-index: 1;}#sk-container-id-1 div.sk-parallel {display: flex;align-items: stretch;justify-content: center;background-color: white;position: relative;}#sk-container-id-1 div.sk-item::before, #sk-container-id-1 div.sk-parallel-item::before {content: \"\";position: absolute;border-left: 1px solid gray;box-sizing: border-box;top: 0;bottom: 0;left: 50%;z-index: -1;}#sk-container-id-1 div.sk-parallel-item {display: flex;flex-direction: column;z-index: 1;position: relative;background-color: white;}#sk-container-id-1 div.sk-parallel-item:first-child::after {align-self: flex-end;width: 50%;}#sk-container-id-1 div.sk-parallel-item:last-child::after {align-self: flex-start;width: 50%;}#sk-container-id-1 div.sk-parallel-item:only-child::after {width: 0;}#sk-container-id-1 div.sk-dashed-wrapped {border: 1px dashed gray;margin: 0 0.4em 0.5em 0.4em;box-sizing: border-box;padding-bottom: 0.4em;background-color: white;}#sk-container-id-1 div.sk-label label {font-family: monospace;font-weight: bold;display: inline-block;line-height: 1.2em;}#sk-container-id-1 div.sk-label-container {text-align: center;}#sk-container-id-1 div.sk-container {/* jupyter's `normalize.less` sets `[hidden] { display: none; }` but bootstrap.min.css set `[hidden] { display: none !important; }` so we also need the `!important` here to be able to override the default hidden behavior on the sphinx rendered scikit-learn.org. See: https://github.com/scikit-learn/scikit-learn/issues/21755 */display: inline-block !important;position: relative;}#sk-container-id-1 div.sk-text-repr-fallback {display: none;}</style><div id=\"sk-container-id-1\" class=\"sk-top-container\"><div class=\"sk-text-repr-fallback\"><pre>StandardScaler()</pre><b>In a Jupyter environment, please rerun this cell to show the HTML representation or trust the notebook. <br />On GitHub, the HTML representation is unable to render, please try loading this page with nbviewer.org.</b></div><div class=\"sk-container\" hidden><div class=\"sk-item\"><div class=\"sk-estimator sk-toggleable\"><input class=\"sk-toggleable__control sk-hidden--visually\" id=\"sk-estimator-id-1\" type=\"checkbox\" checked><label for=\"sk-estimator-id-1\" class=\"sk-toggleable__label sk-toggleable__label-arrow\">StandardScaler</label><div class=\"sk-toggleable__content\"><pre>StandardScaler()</pre></div></div></div></div></div>"
      ],
      "text/plain": [
       "StandardScaler()"
      ]
     },
     "execution_count": 7,
     "metadata": {},
     "output_type": "execute_result"
    }
   ],
   "source": [
    "#Data Scaleing\n",
    "from sklearn.preprocessing import StandardScaler\n",
    "scaler = StandardScaler()\n",
    "scaler.fit(x_train)"
   ]
  },
  {
   "cell_type": "code",
   "execution_count": 8,
   "id": "71d15b6f-edc2-4da5-ab10-c94ba8de8ea4",
   "metadata": {},
   "outputs": [],
   "source": [
    "#to apple z=(x-u)/s standard normal distribution\n",
    "x_train_scaled= scaler.transform(x_train)\n",
    "x_val_scaled= scaler.transform(x_val)\n",
    "x_test_scaled= scaler.transform(x_test)"
   ]
  },
  {
   "cell_type": "code",
   "execution_count": 9,
   "id": "a7691af0-57e9-4580-891b-ef08a5d408d1",
   "metadata": {},
   "outputs": [],
   "source": [
    "#function to calculate Accuracy\n",
    "def evaluate_model(clf,x_train,y_train,x_val,y_val):\n",
    "    clf.fit(x_train,y_train)\n",
    "    y_pred_train=clf.predict(x_train)\n",
    "    y_pred_val=clf.predict(x_val)\n",
    "    acc_train=accuracy_score(y_train,y_pred_train)\n",
    "    acc_val=accuracy_score(y_val,y_pred_val)\n",
    "    print(clf.__class__.__name__)\n",
    "    print('Accuracy of training:',acc_train)\n",
    "    print('Accuracy of valldation:',acc_val)\n",
    "    print('-------------------------------')\n",
    "    return acc_train,acc_val"
   ]
  },
  {
   "cell_type": "code",
   "execution_count": 10,
   "id": "3637ff45-f4d8-4ccf-8dc8-783f3c93a528",
   "metadata": {},
   "outputs": [
    {
     "name": "stdout",
     "output_type": "stream",
     "text": [
      "DecisionTreeClassifier\n",
      "Accuracy of training: 1.0\n",
      "Accuracy of valldation: 0.7423312883435583\n",
      "-------------------------------\n",
      "SVC\n",
      "Accuracy of training: 0.8109756097560976\n",
      "Accuracy of valldation: 0.8098159509202454\n",
      "-------------------------------\n",
      "LogisticRegression\n",
      "Accuracy of training: 0.8079268292682927\n",
      "Accuracy of valldation: 0.8098159509202454\n",
      "-------------------------------\n",
      "KNeighborsClassifier\n",
      "Accuracy of training: 0.8140243902439024\n",
      "Accuracy of valldation: 0.7975460122699386\n",
      "-------------------------------\n",
      "GaussianNB\n",
      "Accuracy of training: 0.8109756097560976\n",
      "Accuracy of valldation: 0.7914110429447853\n",
      "-------------------------------\n",
      "VotingClassifier\n",
      "Accuracy of training: 0.8140243902439024\n",
      "Accuracy of valldation: 0.8098159509202454\n",
      "-------------------------------\n"
     ]
    },
    {
     "data": {
      "image/png": "[encoded data removed]",
      "text/plain": [
       "<Figure size 1800x720 with 1 Axes>"
      ]
     },
     "metadata": {
      "needs_background": "light"
     },
     "output_type": "display_data"
    }
   ],
   "source": [
    "#VotingClassifier\n",
    "from sklearn.ensemble import VotingClassifier\n",
    "LR = LogisticRegression(random_state=1)\n",
    "Dtree = DecisionTreeClassifier(random_state=1)\n",
    "SVM_model = svm.SVC(kernel='linear')\n",
    "knn_model = KNeighborsClassifier(n_neighbors=9)\n",
    "NB_model = GaussianNB()\n",
    "estimators = [\n",
    "    ('tree',Dtree),\n",
    "    ('svm',SVM_model),\n",
    "    ('LR',LR),\n",
    "    ('knn_model',knn_model),\n",
    "    ('NB_model',NB_model)\n",
    "]\n",
    "voting_clf = VotingClassifier(estimators)\n",
    "all_estimators=estimators +[('voting clf',voting_clf)]\n",
    "result= {\n",
    "    'model': [],\n",
    "    'acc train': [],\n",
    "    'acc val': []\n",
    "}\n",
    "for (name,clf) in all_estimators:\n",
    "    acc_train, acc_val = evaluate_model(clf,x_train_scaled,\n",
    "                                        y_train,x_val_scaled,y_val)\n",
    "    result['model'].append(name)\n",
    "    result['acc train'].append(acc_train)\n",
    "    result['acc val'].append(acc_val)\n",
    "results_df=pd.DataFrame(result)\n",
    "#results_df.plot.bar(x='model',y=['acc train','acc val'])\n",
    "results_df.plot.bar(x='model',y=['acc train','acc val'],figsize=(25,10))\n",
    "plt.yticks(np.arange(0.0, 1.1, 0.1))\n",
    "plt.grid(axis='y')\n",
    "plt.show()"
   ]
  },
  {
   "cell_type": "code",
   "execution_count": 11,
   "id": "a9f6b6cf-fa4b-439a-9c82-bfc3fa5e645b",
   "metadata": {},
   "outputs": [
    {
     "name": "stdout",
     "output_type": "stream",
     "text": [
      "BaggingClassifier\n",
      "Accuracy of training: 0.8109756097560976\n",
      "Accuracy of valldation: 0.8098159509202454\n",
      "-------------------------------\n"
     ]
    }
   ],
   "source": [
    "#Bagging\n",
    "from sklearn.ensemble import BaggingClassifier\n",
    "bag_clf = BaggingClassifier(\n",
    "    LogisticRegression(random_state=1), n_estimators=100,\n",
    "    max_samples=0.75, bootstrap=True, random_state=1, n_jobs=-1\n",
    ")\n",
    "acc_train_bag, acc_val_bag = evaluate_model(bag_clf,x_train_scaled,\n",
    "                                        y_train,x_val_scaled,y_val)\n"
   ]
  },
  {
   "cell_type": "code",
   "execution_count": 12,
   "id": "be297202-065d-48df-a21f-0770a8cb0a8f",
   "metadata": {},
   "outputs": [
    {
     "name": "stdout",
     "output_type": "stream",
     "text": [
      "RandomForestClassifier\n",
      "Accuracy of training: 0.8140243902439024\n",
      "Accuracy of valldation: 0.8098159509202454\n",
      "-------------------------------\n"
     ]
    }
   ],
   "source": [
    "from sklearn.ensemble import RandomForestClassifier\n",
    "rf_clf = RandomForestClassifier(n_estimators=500,\n",
    "                                max_depth=3,random_state=1)\n",
    "acc_train_rf, acc_val_rf = evaluate_model(rf_clf,x_train_scaled,\n",
    "                                        y_train,x_val_scaled,y_val)\n"
   ]
  },
  {
   "cell_type": "code",
   "execution_count": 13,
   "id": "90a1a1e0-83af-42ad-88ce-3315547082d7",
   "metadata": {},
   "outputs": [
    {
     "name": "stdout",
     "output_type": "stream",
     "text": [
      "RandomForestClassifier\n",
      "Accuracy of training: 0.8140243902439024\n",
      "Accuracy of valldation: 0.8098159509202454\n",
      "-------------------------------\n"
     ]
    }
   ],
   "source": [
    "from sklearn.ensemble import ExtraTreesClassifier\n",
    "ex_clf = RandomForestClassifier(n_estimators=100,\n",
    "                                max_depth=4,random_state=1)\n",
    "acc_train_ex, acc_val_ex = evaluate_model(rf_clf,x_train_scaled,\n",
    "                                        y_train,x_val_scaled,y_val)\n"
   ]
  },
  {
   "cell_type": "code",
   "execution_count": 14,
   "id": "6fd8b708-be61-4a05-940f-b08b8ededd21",
   "metadata": {},
   "outputs": [
    {
     "name": "stdout",
     "output_type": "stream",
     "text": [
      "AdaBoostClassifier\n",
      "Accuracy of training: 0.8109756097560976\n",
      "Accuracy of valldation: 0.8098159509202454\n",
      "-------------------------------\n"
     ]
    }
   ],
   "source": [
    "from sklearn.ensemble import AdaBoostClassifier\n",
    "ada_clf = AdaBoostClassifier(\n",
    "    DecisionTreeClassifier( max_depth=1,\n",
    "                           min_samples_leaf=30,random_state=1),\n",
    "    n_estimators=1000,\n",
    "    learning_rate = 0.01,\n",
    "    random_state=1\n",
    ")\n",
    "acc_train_ada, acc_val_ada = evaluate_model(ada_clf,x_train_scaled,\n",
    "                                        y_train,x_val_scaled,y_val)\n"
   ]
  },
  {
   "cell_type": "code",
   "execution_count": 15,
   "id": "720a12a0-9f75-4afd-a69f-ae9d23fc1639",
   "metadata": {},
   "outputs": [
    {
     "name": "stdout",
     "output_type": "stream",
     "text": [
      "GradientBoostingClassifier\n",
      "Accuracy of training: 0.8170731707317073\n",
      "Accuracy of valldation: 0.8159509202453987\n",
      "-------------------------------\n"
     ]
    }
   ],
   "source": [
    "from sklearn.ensemble import GradientBoostingClassifier\n",
    "gbct_clf = GradientBoostingClassifier(\n",
    "    max_depth=1,n_estimators=100,\n",
    "    learning_rate = 0.05,random_state=1)\n",
    "acc_train_gbct, acc_val_gbct = evaluate_model(gbct_clf,x_train_scaled,\n",
    "                                        y_train,x_val_scaled,y_val)\n"
   ]
  },
  {
   "cell_type": "code",
   "execution_count": 16,
   "id": "625bc8dc-df78-4dfc-a002-3fd731478891",
   "metadata": {},
   "outputs": [],
   "source": [
    "all_results = {\n",
    "    'Model' : [],\n",
    "    'Acc train' : [],\n",
    "    'Acc val' : []\n",
    "}\n",
    "all_results['Model'] = result['model'] + ['bagging', 'rf', 'ex', 'ada','gbct']\n",
    "all_results['Acc train'] = result['acc train'] + [acc_train_bag, acc_train_rf, acc_train_ex, acc_train_ada,acc_train_gbct]\n",
    "all_results['Acc val'] = result['acc val'] + [acc_val_bag, acc_val_rf, acc_val_ex, acc_val_ada,acc_val_gbct]\n",
    "all_results_df = pd.DataFrame(all_results)\n",
    "all_results_df = all_results_df.sort_values(by='Acc val', ascending=False, ignore_index=True)\n"
   ]
  },
  {
   "cell_type": "code",
   "execution_count": 20,
   "id": "e3b4bdd3-1bbf-413f-8808-e09e49be0d33",
   "metadata": {},
   "outputs": [
    {
     "data": {
      "image/png": "[encoded data removed]",
      "text/plain": [
       "<Figure size 1800x1440 with 1 Axes>"
      ]
     },
     "metadata": {
      "needs_background": "light"
     },
     "output_type": "display_data"
    }
   ],
   "source": [
    "all_results_df.plot.bar(x='Model',y=['Acc train','Acc val'],figsize=(25,20))\n",
    "plt.yticks(np.arange(0.0, 1.1, 0.1))\n",
    "plt.grid(axis='y')\n",
    "plt.show()"
   ]
  },
  {
   "cell_type": "code",
   "execution_count": 18,
   "id": "743272c8-e0e5-4e8c-b6fc-46d9ae21101e",
   "metadata": {},
   "outputs": [
    {
     "data": {
      "text/html": [
       "<style>#sk-container-id-2 {color: black;background-color: white;}#sk-container-id-2 pre{padding: 0;}#sk-container-id-2 div.sk-toggleable {background-color: white;}#sk-container-id-2 label.sk-toggleable__label {cursor: pointer;display: block;width: 100%;margin-bottom: 0;padding: 0.3em;box-sizing: border-box;text-align: center;}#sk-container-id-2 label.sk-toggleable__label-arrow:before {content: \"▸\";float: left;margin-right: 0.25em;color: #696969;}#sk-container-id-2 label.sk-toggleable__label-arrow:hover:before {color: black;}#sk-container-id-2 div.sk-estimator:hover label.sk-toggleable__label-arrow:before {color: black;}#sk-container-id-2 div.sk-toggleable__content {max-height: 0;max-width: 0;overflow: hidden;text-align: left;background-color: #f0f8ff;}#sk-container-id-2 div.sk-toggleable__content pre {margin: 0.2em;color: black;border-radius: 0.25em;background-color: #f0f8ff;}#sk-container-id-2 input.sk-toggleable__control:checked~div.sk-toggleable__content {max-height: 200px;max-width: 100%;overflow: auto;}#sk-container-id-2 input.sk-toggleable__control:checked~label.sk-toggleable__label-arrow:before {content: \"▾\";}#sk-container-id-2 div.sk-estimator input.sk-toggleable__control:checked~label.sk-toggleable__label {background-color: #d4ebff;}#sk-container-id-2 div.sk-label input.sk-toggleable__control:checked~label.sk-toggleable__label {background-color: #d4ebff;}#sk-container-id-2 input.sk-hidden--visually {border: 0;clip: rect(1px 1px 1px 1px);clip: rect(1px, 1px, 1px, 1px);height: 1px;margin: -1px;overflow: hidden;padding: 0;position: absolute;width: 1px;}#sk-container-id-2 div.sk-estimator {font-family: monospace;background-color: #f0f8ff;border: 1px dotted black;border-radius: 0.25em;box-sizing: border-box;margin-bottom: 0.5em;}#sk-container-id-2 div.sk-estimator:hover {background-color: #d4ebff;}#sk-container-id-2 div.sk-parallel-item::after {content: \"\";width: 100%;border-bottom: 1px solid gray;flex-grow: 1;}#sk-container-id-2 div.sk-label:hover label.sk-toggleable__label {background-color: #d4ebff;}#sk-container-id-2 div.sk-serial::before {content: \"\";position: absolute;border-left: 1px solid gray;box-sizing: border-box;top: 0;bottom: 0;left: 50%;z-index: 0;}#sk-container-id-2 div.sk-serial {display: flex;flex-direction: column;align-items: center;background-color: white;padding-right: 0.2em;padding-left: 0.2em;position: relative;}#sk-container-id-2 div.sk-item {position: relative;z-index: 1;}#sk-container-id-2 div.sk-parallel {display: flex;align-items: stretch;justify-content: center;background-color: white;position: relative;}#sk-container-id-2 div.sk-item::before, #sk-container-id-2 div.sk-parallel-item::before {content: \"\";position: absolute;border-left: 1px solid gray;box-sizing: border-box;top: 0;bottom: 0;left: 50%;z-index: -1;}#sk-container-id-2 div.sk-parallel-item {display: flex;flex-direction: column;z-index: 1;position: relative;background-color: white;}#sk-container-id-2 div.sk-parallel-item:first-child::after {align-self: flex-end;width: 50%;}#sk-container-id-2 div.sk-parallel-item:last-child::after {align-self: flex-start;width: 50%;}#sk-container-id-2 div.sk-parallel-item:only-child::after {width: 0;}#sk-container-id-2 div.sk-dashed-wrapped {border: 1px dashed gray;margin: 0 0.4em 0.5em 0.4em;box-sizing: border-box;padding-bottom: 0.4em;background-color: white;}#sk-container-id-2 div.sk-label label {font-family: monospace;font-weight: bold;display: inline-block;line-height: 1.2em;}#sk-container-id-2 div.sk-label-container {text-align: center;}#sk-container-id-2 div.sk-container {/* jupyter's `normalize.less` sets `[hidden] { display: none; }` but bootstrap.min.css set `[hidden] { display: none !important; }` so we also need the `!important` here to be able to override the default hidden behavior on the sphinx rendered scikit-learn.org. See: https://github.com/scikit-learn/scikit-learn/issues/21755 */display: inline-block !important;position: relative;}#sk-container-id-2 div.sk-text-repr-fallback {display: none;}</style><div id=\"sk-container-id-2\" class=\"sk-top-container\"><div class=\"sk-text-repr-fallback\"><pre>GradientBoostingClassifier(learning_rate=0.05, max_depth=1, random_state=1)</pre><b>In a Jupyter environment, please rerun this cell to show the HTML representation or trust the notebook. <br />On GitHub, the HTML representation is unable to render, please try loading this page with nbviewer.org.</b></div><div class=\"sk-container\" hidden><div class=\"sk-item\"><div class=\"sk-estimator sk-toggleable\"><input class=\"sk-toggleable__control sk-hidden--visually\" id=\"sk-estimator-id-2\" type=\"checkbox\" checked><label for=\"sk-estimator-id-2\" class=\"sk-toggleable__label sk-toggleable__label-arrow\">GradientBoostingClassifier</label><div class=\"sk-toggleable__content\"><pre>GradientBoostingClassifier(learning_rate=0.05, max_depth=1, random_state=1)</pre></div></div></div></div></div>"
      ],
      "text/plain": [
       "GradientBoostingClassifier(learning_rate=0.05, max_depth=1, random_state=1)"
      ]
     },
     "execution_count": 18,
     "metadata": {},
     "output_type": "execute_result"
    }
   ],
   "source": [
    "model_best=GradientBoostingClassifier(\n",
    "    max_depth=1,n_estimators=100,\n",
    "    learning_rate = 0.05,random_state=1)\n",
    "model_best.fit(x_train_scaled, y_train)"
   ]
  },
  {
   "cell_type": "code",
   "execution_count": 19,
   "id": "cdcb2595-fea7-4394-973e-9af6abfb237e",
   "metadata": {},
   "outputs": [
    {
     "data": {
      "text/plain": [
       "0.7967479674796748"
      ]
     },
     "execution_count": 19,
     "metadata": {},
     "output_type": "execute_result"
    }
   ],
   "source": [
    "y_pred_test= model_best.predict(x_test_scaled)\n",
    "accuracy_score(y_test, y_pred_test)"
   ]
  },
  {
   "cell_type": "code",
   "execution_count": null,
   "id": "4a67f184-9af2-4b12-ab62-ac0a539c7623",
   "metadata": {},
   "outputs": [],
   "source": []
  }
 ],
 "metadata": {
  "kernelspec": {
   "display_name": "Python 3 (ipykernel)",
   "language": "python",
   "name": "python3"
  },
  "language_info": {
   "codemirror_mode": {
    "name": "ipython",
    "version": 3
   },
   "file_extension": ".py",
   "mimetype": "text/x-python",
   "name": "python",
   "nbconvert_exporter": "python",
   "pygments_lexer": "ipython3",
   "version": "3.10.4"
  }
 },
 "nbformat": 4,
 "nbformat_minor": 5
}
