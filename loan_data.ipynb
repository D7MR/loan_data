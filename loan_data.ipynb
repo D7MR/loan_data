{
 "cells": [
  {
   "cell_type": "code",
   "execution_count": 1,
   "id": "de03b3d9-b5d2-4673-80f4-c9e05f475781",
   "metadata": {},
   "outputs": [],
   "source": [
    "# Project (7): Loan Prediction\n",
    "\n",
    "# Loans are the core business of banks. The main profit comes directly from\n",
    "# the loan’s interest. The loan companies grant a loan after an intensive\n",
    "# process of verification and validation. However, they still don’t have\n",
    "# assurance if the applicant is able to repay the loan with no difficulties.\n",
    "\n",
    "# The goal of the project is to:\n",
    "# • Predict if the user can take loan or not from the given features.\n",
    "\n",
    "# Main steps:\n",
    "\n",
    "# Preprocessing:\n",
    "# • Before building your models, you need to make sure that the\n",
    "# dataset is clean and ready-to-use.\n",
    "# Classification:\n",
    "# • Train using Logistic Regression, SVM and Decision tree (ID3)\n",
    "# models and print the model accuracy.\n"
   ]
  },
  {
   "cell_type": "code",
   "execution_count": 2,
   "id": "71ebaf9a-d2c7-4953-bed3-dd6f290b5f6c",
   "metadata": {},
   "outputs": [],
   "source": [
    "import numpy as np\n",
    "import pandas as pd\n",
    "import seaborn as sns\n",
    "from sklearn.model_selection import train_test_split\n",
    "from sklearn import svm\n",
    "from sklearn.metrics import accuracy_score\n",
    "from sklearn.linear_model import LogisticRegression\n",
    "from sklearn.tree import DecisionTreeClassifier\n",
    "from sklearn.neighbors import KNeighborsClassifier\n",
    "#from sklearn.naive_bayes import GaussianNB\n",
    "from sklearn.naive_bayes import BernoulliNB\n",
    "from sklearn.svm import SVC\n",
    "import matplotlib.pyplot as plt\n",
    "from sklearn.feature_extraction import DictVectorizer"
   ]
  },
  {
   "cell_type": "code",
   "execution_count": 3,
   "id": "742605b9-f34f-4814-973d-3f4acf1fee73",
   "metadata": {},
   "outputs": [],
   "source": [
    "# loading dataset\n",
    "loan_dataset = pd.read_csv('loan_data.csv')"
   ]
  },
  {
   "cell_type": "code",
   "execution_count": 4,
   "id": "6cadb376-c2e1-4a47-b6ec-70136580e865",
   "metadata": {},
   "outputs": [],
   "source": [
    "# check if there is any abnormal values\n",
    "# print(loan_dataset['Gender'].value_counts())\n",
    "# print(loan_dataset['Married'].value_counts())\n",
    "# print(loan_dataset['Dependents'].value_counts())\n",
    "# print(loan_dataset['Education'].value_counts())\n",
    "# print(loan_dataset['Self_Employed'].value_counts())\n",
    "# print(loan_dataset['ApplicantIncome'].value_counts())\n",
    "# print(loan_dataset['CoapplicantIncome'].value_counts())\n",
    "# print(loan_dataset['LoanAmount'].value_counts())\n",
    "# print(loan_dataset['Loan_Amount_Term'].value_counts())\n",
    "# print(loan_dataset['Credit_History'].value_counts())\n",
    "# print(loan_dataset['Property_Area'].value_counts())\n",
    "# print(loan_dataset['Loan_Status'].value_counts())"
   ]
  },
  {
   "cell_type": "code",
   "execution_count": 5,
   "id": "1a815a09-f04b-40c6-ab75-1df6c04336d1",
   "metadata": {},
   "outputs": [],
   "source": [
    "# fill the missing values for numerical term(mean)\n",
    "loan_dataset['LoanAmount'] = loan_dataset['LoanAmount'].fillna(loan_dataset['LoanAmount'].mean())\n",
    "loan_dataset['Loan_Amount_Term'] = loan_dataset['Loan_Amount_Term'].fillna(loan_dataset['Loan_Amount_Term'].mean())\n",
    "loan_dataset['Credit_History'] = loan_dataset['Credit_History'].fillna(loan_dataset['Credit_History'].mean())"
   ]
  },
  {
   "cell_type": "code",
   "execution_count": 6,
   "id": "57977957-bac5-4a2f-8d44-d98105d5a705",
   "metadata": {},
   "outputs": [
    {
     "name": "stdout",
     "output_type": "stream",
     "text": [
      "Loan_ID              0\n",
      "Gender               0\n",
      "Married              0\n",
      "Dependents           0\n",
      "Education            0\n",
      "Self_Employed        0\n",
      "ApplicantIncome      0\n",
      "CoapplicantIncome    0\n",
      "LoanAmount           0\n",
      "Loan_Amount_Term     0\n",
      "Credit_History       0\n",
      "Property_Area        0\n",
      "Loan_Status          0\n",
      "dtype: int64\n",
      "(614, 13)\n"
     ]
    }
   ],
   "source": [
    "# fill the missing valus for categorical term(mode)\n",
    "loan_dataset['Gender'] = loan_dataset['Gender'].fillna(loan_dataset['Gender'].mode()[0])\n",
    "loan_dataset['Married'] = loan_dataset['Married'].fillna(loan_dataset['Married'].mode()[0])\n",
    "loan_dataset['Dependents'] = loan_dataset['Dependents'].fillna(loan_dataset['Dependents'].mode()[0])\n",
    "loan_dataset['Self_Employed'] = loan_dataset['Self_Employed'].fillna(loan_dataset['Self_Employed'].mode()[0])\n",
    "print(loan_dataset.isnull().sum())\n",
    "print(loan_dataset.shape)"
   ]
  },
  {
   "cell_type": "code",
   "execution_count": 7,
   "id": "f91cbfc6-a6d6-4c55-a5b6-0298e550a314",
   "metadata": {},
   "outputs": [],
   "source": [
    "# delete duplicated rows\n",
    "loan_dataset = loan_dataset.drop_duplicates(keep='first')"
   ]
  },
  {
   "cell_type": "code",
   "execution_count": 8,
   "id": "50d9e927-9df1-487f-b21e-4fbfaed3c8ba",
   "metadata": {},
   "outputs": [
    {
     "name": "stdout",
     "output_type": "stream",
     "text": [
      "[[1. 0. 0.]\n",
      " [0. 1. 0.]\n",
      " [0. 0. 1.]]\n"
     ]
    }
   ],
   "source": [
    "# feature extraction \n",
    "onehot_encoder = DictVectorizer()\n",
    "instances = [{'Property_Area': 'Rural'},\n",
    "             {'Property_Area': 'Semiurban'},\n",
    "             {'Property_Area': 'Urban'}]\n",
    "print(onehot_encoder.fit_transform(instances).toarray())"
   ]
  },
  {
   "cell_type": "code",
   "execution_count": 9,
   "id": "b83f3932-1205-4c0c-b913-5f452c34bf5d",
   "metadata": {},
   "outputs": [],
   "source": [
    "# data conversion\n",
    "loan_dataset_conversion=loan_dataset.replace({'Gender': {'Male': 0, 'Female': 1},\n",
    "                      'Married': {'No': 0, 'Yes': 1},\n",
    "                      'Education': {'Not Graduate': 0, 'Graduate': 1},\n",
    "                      'Self_Employed': {'No': 0, 'Yes': 1},\n",
    "                      'Property_Area': {'Rural': 0, 'Semiurban': 1, 'Urban': 2},\n",
    "                      'Loan_Status': {'N': 0, 'Y': 1},\n",
    "                      'Dependents': {'3+': 4}}, inplace=True)"
   ]
  },
  {
   "cell_type": "code",
   "execution_count": 10,
   "id": "1c345e70-7762-4425-8809-7913fa1e6fda",
   "metadata": {},
   "outputs": [
    {
     "name": "stdout",
     "output_type": "stream",
     "text": [
      "(614, 11) (429, 11) (185, 11)\n"
     ]
    }
   ],
   "source": [
    "# train test split\n",
    "x = loan_dataset.drop(columns=['Loan_ID', 'Loan_Status'], axis=1)\n",
    "y = loan_dataset['Loan_Status']\n",
    "x_train, x_test, y_train, y_test = train_test_split(x, y, test_size=0.3, random_state=2)\n",
    "print(x.shape, x_train.shape, x_test.shape)\n"
   ]
  },
  {
   "cell_type": "code",
   "execution_count": 11,
   "id": "073ebca2-0fe3-4110-b364-01da01be03e4",
   "metadata": {},
   "outputs": [],
   "source": [
    "#https://www.youtube.com/watch?v=d1sXfT5Ihsc&list=PLPBnj6azlABaNz3wcEj7SwFLeQ-nlHQaf&index=6\n",
    "#Data Scaleing\n",
    "from sklearn.preprocessing import StandardScaler\n",
    "scaler = StandardScaler()\n",
    "scaler.fit(x_train)\n",
    "x_train_scaled= scaler.transform(x_train)\n",
    "x_test_scaled= scaler.transform(x_test)"
   ]
  },
  {
   "cell_type": "code",
   "execution_count": 12,
   "id": "d3cf7d87-4f65-4a06-9fc6-f78bae2b4f7f",
   "metadata": {},
   "outputs": [],
   "source": [
    "#The feature -Bonus"
   ]
  },
  {
   "cell_type": "code",
   "execution_count": 13,
   "id": "4c88c777-1afd-4235-8abf-511ca37b3b93",
   "metadata": {},
   "outputs": [
    {
     "name": "stdout",
     "output_type": "stream",
     "text": [
      "Training set score: 0.814\n",
      "Test set score: 0.800\n"
     ]
    },
    {
     "data": {
      "image/png": "[encoded data removed]",
      "text/plain": [
       "<Figure size 1008x432 with 1 Axes>"
      ]
     },
     "metadata": {
      "needs_background": "light"
     },
     "output_type": "display_data"
    }
   ],
   "source": [
    "#https://www.youtube.com/watch?v=3k8S5fQh78w&list=PLPBnj6azlABaNz3wcEj7SwFLeQ-nlHQaf&index=5\n",
    "logreg = LogisticRegression(C=0.01).fit(x_train_scaled, y_train) ##C=1\n",
    "print(\"Training set score: {:.3f}\".format(logreg.score(x_train_scaled, y_train)))\n",
    "print(\"Test set score: {:.3f}\".format(logreg.score(x_test_scaled, y_test)))\n",
    "loan_dataset_features = [x for i,x in enumerate(loan_dataset.columns) if i!=13]\n",
    "plt.figure(figsize=(14,6))\n",
    "plt.plot(logreg.coef_.T, 'o', label=\"C=0.01\")\n",
    "plt.xticks(range(loan_dataset.shape[1]), loan_dataset_features, rotation=90)\n",
    "plt.hlines(0, 0, loan_dataset.shape[1])\n",
    "plt.ylim(-2, 2)\n",
    "plt.xlabel(\"Feature\")\n",
    "plt.ylabel(\"Coefficient magnitude\")\n",
    "plt.legend()\n",
    "plt.savefig('log_coef')"
   ]
  },
  {
   "cell_type": "code",
   "execution_count": 14,
   "id": "36849bd9-0fc9-4335-be09-6a61103fb99b",
   "metadata": {},
   "outputs": [],
   "source": [
    "#--------------------------------------------------------------"
   ]
  },
  {
   "cell_type": "code",
   "execution_count": 15,
   "id": "a7691af0-57e9-4580-891b-ef08a5d408d1",
   "metadata": {},
   "outputs": [],
   "source": [
    "#function to calculate Accuracy\n",
    "def evaluate_model(clf,x_train,y_train,x_test,y_test):\n",
    "    clf.fit(x_train,y_train)\n",
    "    y_pred_train=clf.predict(x_train)\n",
    "    y_pred_test=clf.predict(x_test)\n",
    "    acc_train=accuracy_score(y_train,y_pred_train)\n",
    "    acc_test=accuracy_score(y_test,y_pred_test)\n",
    "    print(clf.__class__.__name__)\n",
    "    print('Accuracy of training:',acc_train)\n",
    "    print('Accuracy of test:',acc_test)\n",
    "    print('-------------------------------')\n",
    "    return acc_train,acc_test"
   ]
  },
  {
   "cell_type": "code",
   "execution_count": 16,
   "id": "3637ff45-f4d8-4ccf-8dc8-783f3c93a528",
   "metadata": {},
   "outputs": [
    {
     "name": "stdout",
     "output_type": "stream",
     "text": [
      "LogisticRegression\n",
      "Accuracy of training: 0.8135198135198135\n",
      "Accuracy of test: 0.8\n",
      "-------------------------------\n",
      "SVC\n",
      "Accuracy of training: 0.8135198135198135\n",
      "Accuracy of test: 0.8\n",
      "-------------------------------\n",
      "DecisionTreeClassifier\n",
      "Accuracy of training: 0.8298368298368298\n",
      "Accuracy of test: 0.7837837837837838\n",
      "-------------------------------\n",
      "KNeighborsClassifier\n",
      "Accuracy of training: 0.8181818181818182\n",
      "Accuracy of test: 0.8054054054054054\n",
      "-------------------------------\n",
      "BernoulliNB\n",
      "Accuracy of training: 0.8135198135198135\n",
      "Accuracy of test: 0.8\n",
      "-------------------------------\n"
     ]
    }
   ],
   "source": [
    "#Logistic Regression, SVM and Decision tree (ID3)\n",
    "#https://www.youtube.com/watch?v=rwLeL_u53nE&list=PLPBnj6azlABaNz3wcEj7SwFLeQ-nlHQaf&index=11\n",
    "LR = LogisticRegression(C=0.01)\n",
    "acc_train_bag, acc_test_bag = evaluate_model(LR,x_train_scaled,\n",
    "                                        y_train,x_test_scaled,y_test)\n",
    "#https://www.youtube.com/watch?v=Aym_73xikz4&list=PLPBnj6azlABaNz3wcEj7SwFLeQ-nlHQaf&index=12\n",
    "SVM_model = svm.SVC(kernel='linear')\n",
    "acc_train_bag, acc_test_bag = evaluate_model(SVM_model,x_train_scaled,\n",
    "                                        y_train,x_test_scaled,y_test)\n",
    "#https://www.youtube.com/watch?v=LcFM_4ocfRk&list=PLPBnj6azlABaNz3wcEj7SwFLeQ-nlHQaf&index=16\n",
    "Dtree = DecisionTreeClassifier(max_depth=3)\n",
    "acc_train_bag, acc_test_bag = evaluate_model(Dtree,x_train_scaled,\n",
    "                                        y_train,x_test_scaled,y_test)\n",
    "#https://www.youtube.com/watch?v=BNfMrlMg4Ys&list=PLPBnj6azlABaNz3wcEj7SwFLeQ-nlHQaf&index=17\n",
    "knn_model = KNeighborsClassifier()\n",
    "acc_train_bag, acc_test_bag = evaluate_model(knn_model,x_train_scaled,\n",
    "                                        y_train,x_test_scaled,y_test)\n",
    "#https://www.youtube.com/watch?v=v5Qoj4f-UNA&list=PLPBnj6azlABaNz3wcEj7SwFLeQ-nlHQaf&index=18\n",
    "NB_model = BernoulliNB()\n",
    "acc_train_bag, acc_test_bag = evaluate_model(NB_model,x_train_scaled,\n",
    "                                        y_train,x_test_scaled,y_test)\n"
   ]
  },
  {
   "cell_type": "code",
   "execution_count": 17,
   "id": "132f269a-9fba-4e09-a1c7-323d0535dea0",
   "metadata": {},
   "outputs": [
    {
     "name": "stdout",
     "output_type": "stream",
     "text": [
      "DecisionTreeClassifier\n",
      "Accuracy of training: 0.8298368298368298\n",
      "Accuracy of test: 0.7783783783783784\n",
      "-------------------------------\n",
      "SVC\n",
      "Accuracy of training: 0.8135198135198135\n",
      "Accuracy of test: 0.8\n",
      "-------------------------------\n",
      "LogisticRegression\n",
      "Accuracy of training: 0.8135198135198135\n",
      "Accuracy of test: 0.8\n",
      "-------------------------------\n",
      "KNeighborsClassifier\n",
      "Accuracy of training: 0.8181818181818182\n",
      "Accuracy of test: 0.8054054054054054\n",
      "-------------------------------\n",
      "BernoulliNB\n",
      "Accuracy of training: 0.8135198135198135\n",
      "Accuracy of test: 0.8\n",
      "-------------------------------\n"
     ]
    },
    {
     "data": {
      "image/png": "[encoded data removed]",
      "text/plain": [
       "<Figure size 1080x1080 with 1 Axes>"
      ]
     },
     "metadata": {
      "needs_background": "light"
     },
     "output_type": "display_data"
    }
   ],
   "source": [
    "estimators = [\n",
    "    ('tree',Dtree),\n",
    "    ('svm',SVM_model),\n",
    "    ('LR',LR),\n",
    "    ('knn_model',knn_model),\n",
    "    ('NB_model',NB_model)\n",
    "]\n",
    "result= {\n",
    "    'model': [],\n",
    "    'acc train': [],\n",
    "    'acc test': []\n",
    "}\n",
    "for (name,clf) in estimators:\n",
    "    acc_train, acc_test = evaluate_model(clf,x_train_scaled,\n",
    "                                        y_train,x_test_scaled,y_test)\n",
    "    result['model'].append(name)\n",
    "    result['acc train'].append(acc_train)\n",
    "    result['acc test'].append(acc_test)\n",
    "result = pd.DataFrame(result)\n",
    "result = result.sort_values(by='acc test', ascending=False, ignore_index=True)\n",
    "result.plot.bar(x='model',y=['acc train','acc test'],figsize=(15, 15))\n",
    "plt.yticks(np.arange(0.0, 1.1, 0.1))\n",
    "plt.grid(axis='y')\n",
    "plt.show()"
   ]
  },
  {
   "cell_type": "code",
   "execution_count": 18,
   "id": "743272c8-e0e5-4e8c-b6fc-46d9ae21101e",
   "metadata": {},
   "outputs": [
    {
     "data": {
      "text/plain": [
       "0.8054054054054054"
      ]
     },
     "execution_count": 18,
     "metadata": {},
     "output_type": "execute_result"
    }
   ],
   "source": [
    "model_best=KNeighborsClassifier()\n",
    "model_best.fit(x_train_scaled, y_train)\n",
    "y_pred_test= model_best.predict(x_test_scaled)\n",
    "accuracy_score(y_test, y_pred_test)"
   ]
  }
 ],
 "metadata": {
  "kernelspec": {
   "display_name": "Python 3 (ipykernel)",
   "language": "python",
   "name": "python3"
  },
  "language_info": {
   "codemirror_mode": {
    "name": "ipython",
    "version": 3
   },
   "file_extension": ".py",
   "mimetype": "text/x-python",
   "name": "python",
   "nbconvert_exporter": "python",
   "pygments_lexer": "ipython3",
   "version": "3.10.4"
  }
 },
 "nbformat": 4,
 "nbformat_minor": 5
}
